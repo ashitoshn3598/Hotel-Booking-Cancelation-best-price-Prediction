{
 "cells": [
  {
   "cell_type": "code",
   "execution_count": 1,
   "id": "69baac61",
   "metadata": {},
   "outputs": [],
   "source": [
    "import pandas as pd\n",
    "import numpy as np"
   ]
  },
  {
   "cell_type": "code",
   "execution_count": 2,
   "id": "1a5e40c6",
   "metadata": {},
   "outputs": [],
   "source": [
    "data = pd.read_csv('hotel_booking.csv')"
   ]
  },
  {
   "cell_type": "code",
   "execution_count": 3,
   "id": "e414c059",
   "metadata": {},
   "outputs": [],
   "source": [
    "col =['lead_time',\n",
    "'arrival_date_month',\n",
    "'adults',\n",
    "'meal',\n",
    "'market_segment',\n",
    "'distribution_channel',\n",
    "'is_repeated_guest',\n",
    "'booking_changes',\n",
    "'deposit_type',\n",
    "'customer_type',\n",
    "'adr',\n",
    "'is_canceled']"
   ]
  },
  {
   "cell_type": "code",
   "execution_count": 4,
   "id": "d6590e50",
   "metadata": {},
   "outputs": [],
   "source": [
    "df = data[col]"
   ]
  },
  {
   "cell_type": "code",
   "execution_count": 5,
   "id": "dbe25307",
   "metadata": {},
   "outputs": [
    {
     "data": {
      "text/html": [
       "<div>\n",
       "<style scoped>\n",
       "    .dataframe tbody tr th:only-of-type {\n",
       "        vertical-align: middle;\n",
       "    }\n",
       "\n",
       "    .dataframe tbody tr th {\n",
       "        vertical-align: top;\n",
       "    }\n",
       "\n",
       "    .dataframe thead th {\n",
       "        text-align: right;\n",
       "    }\n",
       "</style>\n",
       "<table border=\"1\" class=\"dataframe\">\n",
       "  <thead>\n",
       "    <tr style=\"text-align: right;\">\n",
       "      <th></th>\n",
       "      <th>lead_time</th>\n",
       "      <th>arrival_date_month</th>\n",
       "      <th>adults</th>\n",
       "      <th>meal</th>\n",
       "      <th>market_segment</th>\n",
       "      <th>distribution_channel</th>\n",
       "      <th>is_repeated_guest</th>\n",
       "      <th>booking_changes</th>\n",
       "      <th>deposit_type</th>\n",
       "      <th>customer_type</th>\n",
       "      <th>adr</th>\n",
       "      <th>is_canceled</th>\n",
       "    </tr>\n",
       "  </thead>\n",
       "  <tbody>\n",
       "    <tr>\n",
       "      <th>0</th>\n",
       "      <td>342</td>\n",
       "      <td>July</td>\n",
       "      <td>2</td>\n",
       "      <td>BB</td>\n",
       "      <td>Direct</td>\n",
       "      <td>Direct</td>\n",
       "      <td>0</td>\n",
       "      <td>3</td>\n",
       "      <td>No Deposit</td>\n",
       "      <td>Transient</td>\n",
       "      <td>0.0</td>\n",
       "      <td>0</td>\n",
       "    </tr>\n",
       "    <tr>\n",
       "      <th>1</th>\n",
       "      <td>737</td>\n",
       "      <td>July</td>\n",
       "      <td>2</td>\n",
       "      <td>BB</td>\n",
       "      <td>Direct</td>\n",
       "      <td>Direct</td>\n",
       "      <td>0</td>\n",
       "      <td>4</td>\n",
       "      <td>No Deposit</td>\n",
       "      <td>Transient</td>\n",
       "      <td>0.0</td>\n",
       "      <td>0</td>\n",
       "    </tr>\n",
       "    <tr>\n",
       "      <th>2</th>\n",
       "      <td>7</td>\n",
       "      <td>July</td>\n",
       "      <td>1</td>\n",
       "      <td>BB</td>\n",
       "      <td>Direct</td>\n",
       "      <td>Direct</td>\n",
       "      <td>0</td>\n",
       "      <td>0</td>\n",
       "      <td>No Deposit</td>\n",
       "      <td>Transient</td>\n",
       "      <td>75.0</td>\n",
       "      <td>0</td>\n",
       "    </tr>\n",
       "    <tr>\n",
       "      <th>3</th>\n",
       "      <td>13</td>\n",
       "      <td>July</td>\n",
       "      <td>1</td>\n",
       "      <td>BB</td>\n",
       "      <td>Corporate</td>\n",
       "      <td>Corporate</td>\n",
       "      <td>0</td>\n",
       "      <td>0</td>\n",
       "      <td>No Deposit</td>\n",
       "      <td>Transient</td>\n",
       "      <td>75.0</td>\n",
       "      <td>0</td>\n",
       "    </tr>\n",
       "    <tr>\n",
       "      <th>4</th>\n",
       "      <td>14</td>\n",
       "      <td>July</td>\n",
       "      <td>2</td>\n",
       "      <td>BB</td>\n",
       "      <td>Online TA</td>\n",
       "      <td>TA/TO</td>\n",
       "      <td>0</td>\n",
       "      <td>0</td>\n",
       "      <td>No Deposit</td>\n",
       "      <td>Transient</td>\n",
       "      <td>98.0</td>\n",
       "      <td>0</td>\n",
       "    </tr>\n",
       "  </tbody>\n",
       "</table>\n",
       "</div>"
      ],
      "text/plain": [
       "   lead_time arrival_date_month  adults meal market_segment  \\\n",
       "0        342               July       2   BB         Direct   \n",
       "1        737               July       2   BB         Direct   \n",
       "2          7               July       1   BB         Direct   \n",
       "3         13               July       1   BB      Corporate   \n",
       "4         14               July       2   BB      Online TA   \n",
       "\n",
       "  distribution_channel  is_repeated_guest  booking_changes deposit_type  \\\n",
       "0               Direct                  0                3   No Deposit   \n",
       "1               Direct                  0                4   No Deposit   \n",
       "2               Direct                  0                0   No Deposit   \n",
       "3            Corporate                  0                0   No Deposit   \n",
       "4                TA/TO                  0                0   No Deposit   \n",
       "\n",
       "  customer_type   adr  is_canceled  \n",
       "0     Transient   0.0            0  \n",
       "1     Transient   0.0            0  \n",
       "2     Transient  75.0            0  \n",
       "3     Transient  75.0            0  \n",
       "4     Transient  98.0            0  "
      ]
     },
     "execution_count": 5,
     "metadata": {},
     "output_type": "execute_result"
    }
   ],
   "source": [
    "df.head()"
   ]
  },
  {
   "cell_type": "code",
   "execution_count": 6,
   "id": "f39c8d3c",
   "metadata": {},
   "outputs": [
    {
     "name": "stderr",
     "output_type": "stream",
     "text": [
      "C:\\Users\\Ashitosh\\anaconda3\\lib\\site-packages\\pandas\\core\\series.py:4509: SettingWithCopyWarning: \n",
      "A value is trying to be set on a copy of a slice from a DataFrame\n",
      "\n",
      "See the caveats in the documentation: https://pandas.pydata.org/pandas-docs/stable/user_guide/indexing.html#returning-a-view-versus-a-copy\n",
      "  return super().replace(\n"
     ]
    }
   ],
   "source": [
    "df.arrival_date_month.replace({'August': 12,\n",
    " 'July': 11,\n",
    " 'May': 10,\n",
    " 'October': 9,\n",
    " 'April': 8,\n",
    " 'June': 7,\n",
    " 'September': 6,\n",
    " 'March': 5,\n",
    " 'February': 4,\n",
    " 'November': 3,\n",
    " 'December': 2,\n",
    " 'January': 1},inplace=True)"
   ]
  },
  {
   "cell_type": "code",
   "execution_count": 7,
   "id": "9f213784",
   "metadata": {},
   "outputs": [],
   "source": [
    "df.meal.replace({'BB': 5, 'HB': 4, 'SC': 3, 'Undefined': 2, 'FB': 1},inplace=True)"
   ]
  },
  {
   "cell_type": "code",
   "execution_count": 8,
   "id": "0d3ed080",
   "metadata": {},
   "outputs": [],
   "source": [
    "df.market_segment.replace({'Online TA': 8,'Offline TA/TO': 7,'Groups': 6,\n",
    " 'Direct': 5,'Corporate': 4,'Complementary': 3,\n",
    " 'Aviation': 2,'Undefined': 1},inplace = True)"
   ]
  },
  {
   "cell_type": "code",
   "execution_count": 9,
   "id": "a692f043",
   "metadata": {},
   "outputs": [],
   "source": [
    "df.distribution_channel.replace({'TA/TO': 5, 'Direct': 4, 'Corporate': 3, 'GDS': 2, 'Undefined': 1},inplace = True)"
   ]
  },
  {
   "cell_type": "code",
   "execution_count": 10,
   "id": "9cbb5677",
   "metadata": {},
   "outputs": [],
   "source": [
    "df.deposit_type.replace({'No Deposit': 3, 'Non Refund': 2, 'Refundable': 1},inplace = True)"
   ]
  },
  {
   "cell_type": "code",
   "execution_count": 11,
   "id": "c2069848",
   "metadata": {},
   "outputs": [],
   "source": [
    "df.customer_type.replace({'Transient': 4, 'Transient-Party': 3, 'Contract': 2, 'Group': 1},inplace = True)"
   ]
  },
  {
   "cell_type": "raw",
   "id": "3eb14f99",
   "metadata": {},
   "source": [
    "df.reservation_status.replace({'Check-Out': 3, 'Canceled': 2, 'No-Show': 1},inplace = True)"
   ]
  },
  {
   "cell_type": "code",
   "execution_count": 12,
   "id": "07633f0d",
   "metadata": {},
   "outputs": [
    {
     "name": "stdout",
     "output_type": "stream",
     "text": [
      "<class 'pandas.core.frame.DataFrame'>\n",
      "RangeIndex: 119390 entries, 0 to 119389\n",
      "Data columns (total 12 columns):\n",
      " #   Column                Non-Null Count   Dtype  \n",
      "---  ------                --------------   -----  \n",
      " 0   lead_time             119390 non-null  int64  \n",
      " 1   arrival_date_month    119390 non-null  int64  \n",
      " 2   adults                119390 non-null  int64  \n",
      " 3   meal                  119390 non-null  int64  \n",
      " 4   market_segment        119390 non-null  int64  \n",
      " 5   distribution_channel  119390 non-null  int64  \n",
      " 6   is_repeated_guest     119390 non-null  int64  \n",
      " 7   booking_changes       119390 non-null  int64  \n",
      " 8   deposit_type          119390 non-null  int64  \n",
      " 9   customer_type         119390 non-null  int64  \n",
      " 10  adr                   119390 non-null  float64\n",
      " 11  is_canceled           119390 non-null  int64  \n",
      "dtypes: float64(1), int64(11)\n",
      "memory usage: 10.9 MB\n"
     ]
    }
   ],
   "source": [
    "df.info()"
   ]
  },
  {
   "cell_type": "markdown",
   "id": "d9c14415",
   "metadata": {},
   "source": [
    "# model training"
   ]
  },
  {
   "cell_type": "code",
   "execution_count": 13,
   "id": "4882f1c1",
   "metadata": {},
   "outputs": [],
   "source": [
    "from sklearn.ensemble import RandomForestClassifier\n",
    "from sklearn.tree import DecisionTreeClassifier\n",
    "from sklearn.linear_model import LogisticRegression\n",
    "\n",
    "from sklearn.model_selection import train_test_split, GridSearchCV, RandomizedSearchCV\n",
    "\n",
    "from sklearn.metrics import confusion_matrix, accuracy_score, classification_report"
   ]
  },
  {
   "cell_type": "code",
   "execution_count": 14,
   "id": "6631ba27",
   "metadata": {},
   "outputs": [],
   "source": [
    "from sklearn.metrics import balanced_accuracy_score"
   ]
  },
  {
   "cell_type": "code",
   "execution_count": 15,
   "id": "67cd8075",
   "metadata": {},
   "outputs": [],
   "source": [
    "x = df.drop('is_canceled',axis = 1)\n",
    "y = df['is_canceled']"
   ]
  },
  {
   "cell_type": "code",
   "execution_count": 16,
   "id": "9ca74f7a",
   "metadata": {},
   "outputs": [
    {
     "data": {
      "text/html": [
       "<div>\n",
       "<style scoped>\n",
       "    .dataframe tbody tr th:only-of-type {\n",
       "        vertical-align: middle;\n",
       "    }\n",
       "\n",
       "    .dataframe tbody tr th {\n",
       "        vertical-align: top;\n",
       "    }\n",
       "\n",
       "    .dataframe thead th {\n",
       "        text-align: right;\n",
       "    }\n",
       "</style>\n",
       "<table border=\"1\" class=\"dataframe\">\n",
       "  <thead>\n",
       "    <tr style=\"text-align: right;\">\n",
       "      <th></th>\n",
       "      <th>lead_time</th>\n",
       "      <th>arrival_date_month</th>\n",
       "      <th>adults</th>\n",
       "      <th>meal</th>\n",
       "      <th>market_segment</th>\n",
       "      <th>distribution_channel</th>\n",
       "      <th>is_repeated_guest</th>\n",
       "      <th>booking_changes</th>\n",
       "      <th>deposit_type</th>\n",
       "      <th>customer_type</th>\n",
       "      <th>adr</th>\n",
       "    </tr>\n",
       "  </thead>\n",
       "  <tbody>\n",
       "    <tr>\n",
       "      <th>0</th>\n",
       "      <td>342</td>\n",
       "      <td>11</td>\n",
       "      <td>2</td>\n",
       "      <td>5</td>\n",
       "      <td>5</td>\n",
       "      <td>4</td>\n",
       "      <td>0</td>\n",
       "      <td>3</td>\n",
       "      <td>3</td>\n",
       "      <td>4</td>\n",
       "      <td>0.00</td>\n",
       "    </tr>\n",
       "    <tr>\n",
       "      <th>1</th>\n",
       "      <td>737</td>\n",
       "      <td>11</td>\n",
       "      <td>2</td>\n",
       "      <td>5</td>\n",
       "      <td>5</td>\n",
       "      <td>4</td>\n",
       "      <td>0</td>\n",
       "      <td>4</td>\n",
       "      <td>3</td>\n",
       "      <td>4</td>\n",
       "      <td>0.00</td>\n",
       "    </tr>\n",
       "    <tr>\n",
       "      <th>2</th>\n",
       "      <td>7</td>\n",
       "      <td>11</td>\n",
       "      <td>1</td>\n",
       "      <td>5</td>\n",
       "      <td>5</td>\n",
       "      <td>4</td>\n",
       "      <td>0</td>\n",
       "      <td>0</td>\n",
       "      <td>3</td>\n",
       "      <td>4</td>\n",
       "      <td>75.00</td>\n",
       "    </tr>\n",
       "    <tr>\n",
       "      <th>3</th>\n",
       "      <td>13</td>\n",
       "      <td>11</td>\n",
       "      <td>1</td>\n",
       "      <td>5</td>\n",
       "      <td>4</td>\n",
       "      <td>3</td>\n",
       "      <td>0</td>\n",
       "      <td>0</td>\n",
       "      <td>3</td>\n",
       "      <td>4</td>\n",
       "      <td>75.00</td>\n",
       "    </tr>\n",
       "    <tr>\n",
       "      <th>4</th>\n",
       "      <td>14</td>\n",
       "      <td>11</td>\n",
       "      <td>2</td>\n",
       "      <td>5</td>\n",
       "      <td>8</td>\n",
       "      <td>5</td>\n",
       "      <td>0</td>\n",
       "      <td>0</td>\n",
       "      <td>3</td>\n",
       "      <td>4</td>\n",
       "      <td>98.00</td>\n",
       "    </tr>\n",
       "    <tr>\n",
       "      <th>...</th>\n",
       "      <td>...</td>\n",
       "      <td>...</td>\n",
       "      <td>...</td>\n",
       "      <td>...</td>\n",
       "      <td>...</td>\n",
       "      <td>...</td>\n",
       "      <td>...</td>\n",
       "      <td>...</td>\n",
       "      <td>...</td>\n",
       "      <td>...</td>\n",
       "      <td>...</td>\n",
       "    </tr>\n",
       "    <tr>\n",
       "      <th>119385</th>\n",
       "      <td>23</td>\n",
       "      <td>12</td>\n",
       "      <td>2</td>\n",
       "      <td>5</td>\n",
       "      <td>7</td>\n",
       "      <td>5</td>\n",
       "      <td>0</td>\n",
       "      <td>0</td>\n",
       "      <td>3</td>\n",
       "      <td>4</td>\n",
       "      <td>96.14</td>\n",
       "    </tr>\n",
       "    <tr>\n",
       "      <th>119386</th>\n",
       "      <td>102</td>\n",
       "      <td>12</td>\n",
       "      <td>3</td>\n",
       "      <td>5</td>\n",
       "      <td>8</td>\n",
       "      <td>5</td>\n",
       "      <td>0</td>\n",
       "      <td>0</td>\n",
       "      <td>3</td>\n",
       "      <td>4</td>\n",
       "      <td>225.43</td>\n",
       "    </tr>\n",
       "    <tr>\n",
       "      <th>119387</th>\n",
       "      <td>34</td>\n",
       "      <td>12</td>\n",
       "      <td>2</td>\n",
       "      <td>5</td>\n",
       "      <td>8</td>\n",
       "      <td>5</td>\n",
       "      <td>0</td>\n",
       "      <td>0</td>\n",
       "      <td>3</td>\n",
       "      <td>4</td>\n",
       "      <td>157.71</td>\n",
       "    </tr>\n",
       "    <tr>\n",
       "      <th>119388</th>\n",
       "      <td>109</td>\n",
       "      <td>12</td>\n",
       "      <td>2</td>\n",
       "      <td>5</td>\n",
       "      <td>8</td>\n",
       "      <td>5</td>\n",
       "      <td>0</td>\n",
       "      <td>0</td>\n",
       "      <td>3</td>\n",
       "      <td>4</td>\n",
       "      <td>104.40</td>\n",
       "    </tr>\n",
       "    <tr>\n",
       "      <th>119389</th>\n",
       "      <td>205</td>\n",
       "      <td>12</td>\n",
       "      <td>2</td>\n",
       "      <td>4</td>\n",
       "      <td>8</td>\n",
       "      <td>5</td>\n",
       "      <td>0</td>\n",
       "      <td>0</td>\n",
       "      <td>3</td>\n",
       "      <td>4</td>\n",
       "      <td>151.20</td>\n",
       "    </tr>\n",
       "  </tbody>\n",
       "</table>\n",
       "<p>119390 rows × 11 columns</p>\n",
       "</div>"
      ],
      "text/plain": [
       "        lead_time  arrival_date_month  adults  meal  market_segment  \\\n",
       "0             342                  11       2     5               5   \n",
       "1             737                  11       2     5               5   \n",
       "2               7                  11       1     5               5   \n",
       "3              13                  11       1     5               4   \n",
       "4              14                  11       2     5               8   \n",
       "...           ...                 ...     ...   ...             ...   \n",
       "119385         23                  12       2     5               7   \n",
       "119386        102                  12       3     5               8   \n",
       "119387         34                  12       2     5               8   \n",
       "119388        109                  12       2     5               8   \n",
       "119389        205                  12       2     4               8   \n",
       "\n",
       "        distribution_channel  is_repeated_guest  booking_changes  \\\n",
       "0                          4                  0                3   \n",
       "1                          4                  0                4   \n",
       "2                          4                  0                0   \n",
       "3                          3                  0                0   \n",
       "4                          5                  0                0   \n",
       "...                      ...                ...              ...   \n",
       "119385                     5                  0                0   \n",
       "119386                     5                  0                0   \n",
       "119387                     5                  0                0   \n",
       "119388                     5                  0                0   \n",
       "119389                     5                  0                0   \n",
       "\n",
       "        deposit_type  customer_type     adr  \n",
       "0                  3              4    0.00  \n",
       "1                  3              4    0.00  \n",
       "2                  3              4   75.00  \n",
       "3                  3              4   75.00  \n",
       "4                  3              4   98.00  \n",
       "...              ...            ...     ...  \n",
       "119385             3              4   96.14  \n",
       "119386             3              4  225.43  \n",
       "119387             3              4  157.71  \n",
       "119388             3              4  104.40  \n",
       "119389             3              4  151.20  \n",
       "\n",
       "[119390 rows x 11 columns]"
      ]
     },
     "execution_count": 16,
     "metadata": {},
     "output_type": "execute_result"
    }
   ],
   "source": [
    "x"
   ]
  },
  {
   "cell_type": "code",
   "execution_count": 17,
   "id": "4113527c",
   "metadata": {},
   "outputs": [
    {
     "data": {
      "text/plain": [
       "0    75166\n",
       "1    44224\n",
       "Name: is_canceled, dtype: int64"
      ]
     },
     "execution_count": 17,
     "metadata": {},
     "output_type": "execute_result"
    }
   ],
   "source": [
    "y.value_counts()"
   ]
  },
  {
   "cell_type": "code",
   "execution_count": 18,
   "id": "247948c4",
   "metadata": {},
   "outputs": [],
   "source": [
    "x_train,x_test,y_train,y_test = train_test_split(x,y,test_size=0.2)"
   ]
  },
  {
   "cell_type": "code",
   "execution_count": 19,
   "id": "b0ff4fae",
   "metadata": {},
   "outputs": [],
   "source": [
    "rfc = RandomForestClassifier()"
   ]
  },
  {
   "cell_type": "raw",
   "id": "e3b709f5",
   "metadata": {},
   "source": [
    "rfc.fit(x_train,y_train)\n",
    "\n",
    "# lr = LogisticRegression()\n",
    "# lr.fit(x_train,y_train)"
   ]
  },
  {
   "cell_type": "code",
   "execution_count": 340,
   "id": "38b5e2e0",
   "metadata": {},
   "outputs": [
    {
     "name": "stdout",
     "output_type": "stream",
     "text": [
      "Confusion Matrix [[13258  1749]\n",
      " [ 2665  6206]]\n",
      "Accuracy score 0.7915186492799433\n",
      "Classification report               precision    recall  f1-score   support\n",
      "\n",
      "           0       0.83      0.88      0.86     15007\n",
      "           1       0.78      0.70      0.74      8871\n",
      "\n",
      "    accuracy                           0.82     23878\n",
      "   macro avg       0.81      0.79      0.80     23878\n",
      "weighted avg       0.81      0.82      0.81     23878\n",
      "\n"
     ]
    }
   ],
   "source": [
    "# Testing Data Evaluation\n",
    "y_pred = rfc.predict(x_test)\n",
    "\n",
    "cnf_matrix = confusion_matrix(y_test,y_pred)\n",
    "print(\"Confusion Matrix\", cnf_matrix)\n",
    "\n",
    "acc_score = balanced_accuracy_score(y_test,y_pred)\n",
    "print(\"Accuracy score\", acc_score)\n",
    "\n",
    "clf_report = classification_report(y_test,y_pred)\n",
    "print(\"Classification report\", clf_report)"
   ]
  },
  {
   "cell_type": "code",
   "execution_count": 341,
   "id": "ae6a538c",
   "metadata": {},
   "outputs": [
    {
     "name": "stdout",
     "output_type": "stream",
     "text": [
      "Confusion Matrix [[59259   900]\n",
      " [ 1480 33873]]\n",
      "Accuracy score 0.975081665131083\n",
      "Classification report               precision    recall  f1-score   support\n",
      "\n",
      "           0       0.98      0.99      0.98     60159\n",
      "           1       0.97      0.96      0.97     35353\n",
      "\n",
      "    accuracy                           0.98     95512\n",
      "   macro avg       0.97      0.97      0.97     95512\n",
      "weighted avg       0.98      0.98      0.98     95512\n",
      "\n"
     ]
    }
   ],
   "source": [
    "# Training Data Evaluation\n",
    "y_pred = rfc.predict(x_train)\n",
    "\n",
    "cnf_matrix = confusion_matrix(y_train,y_pred)\n",
    "print(\"Confusion Matrix\", cnf_matrix)\n",
    "\n",
    "acc_score = accuracy_score(y_train,y_pred)\n",
    "print(\"Accuracy score\", acc_score)\n",
    "\n",
    "clf_report = classification_report(y_train,y_pred)\n",
    "print(\"Classification report\", clf_report)"
   ]
  },
  {
   "cell_type": "code",
   "execution_count": 20,
   "id": "9f548aa5",
   "metadata": {},
   "outputs": [],
   "source": [
    "hyp = {\"n_estimators\" : np.arange(10,11),\n",
    "    \"criterion\":['gini','entropy'],\n",
    "    \"max_depth\":np.arange(5,6),\n",
    "    \"min_samples_split\":np.arange(5,6),\n",
    "    \"min_samples_leaf\":np.arange(5,6),\n",
    "    \"max_features\":['auto']}"
   ]
  },
  {
   "cell_type": "code",
   "execution_count": 21,
   "id": "b956c781",
   "metadata": {},
   "outputs": [],
   "source": [
    "from sklearn.model_selection import RandomizedSearchCV"
   ]
  },
  {
   "cell_type": "code",
   "execution_count": 22,
   "id": "738c4bea",
   "metadata": {
    "scrolled": true
   },
   "outputs": [
    {
     "name": "stderr",
     "output_type": "stream",
     "text": [
      "C:\\Users\\Ashitosh\\anaconda3\\lib\\site-packages\\sklearn\\model_selection\\_search.py:306: UserWarning: The total space of parameters 2 is smaller than n_iter=10. Running 2 iterations. For exhaustive searches, use GridSearchCV.\n",
      "  warnings.warn(\n",
      "C:\\Users\\Ashitosh\\anaconda3\\lib\\site-packages\\sklearn\\ensemble\\_forest.py:427: FutureWarning: `max_features='auto'` has been deprecated in 1.1 and will be removed in 1.3. To keep the past behaviour, explicitly set `max_features='sqrt'` or remove this parameter as it is also the default value for RandomForestClassifiers and ExtraTreesClassifiers.\n",
      "  warn(\n"
     ]
    },
    {
     "data": {
      "text/html": [
       "<style>#sk-container-id-1 {color: black;background-color: white;}#sk-container-id-1 pre{padding: 0;}#sk-container-id-1 div.sk-toggleable {background-color: white;}#sk-container-id-1 label.sk-toggleable__label {cursor: pointer;display: block;width: 100%;margin-bottom: 0;padding: 0.3em;box-sizing: border-box;text-align: center;}#sk-container-id-1 label.sk-toggleable__label-arrow:before {content: \"▸\";float: left;margin-right: 0.25em;color: #696969;}#sk-container-id-1 label.sk-toggleable__label-arrow:hover:before {color: black;}#sk-container-id-1 div.sk-estimator:hover label.sk-toggleable__label-arrow:before {color: black;}#sk-container-id-1 div.sk-toggleable__content {max-height: 0;max-width: 0;overflow: hidden;text-align: left;background-color: #f0f8ff;}#sk-container-id-1 div.sk-toggleable__content pre {margin: 0.2em;color: black;border-radius: 0.25em;background-color: #f0f8ff;}#sk-container-id-1 input.sk-toggleable__control:checked~div.sk-toggleable__content {max-height: 200px;max-width: 100%;overflow: auto;}#sk-container-id-1 input.sk-toggleable__control:checked~label.sk-toggleable__label-arrow:before {content: \"▾\";}#sk-container-id-1 div.sk-estimator input.sk-toggleable__control:checked~label.sk-toggleable__label {background-color: #d4ebff;}#sk-container-id-1 div.sk-label input.sk-toggleable__control:checked~label.sk-toggleable__label {background-color: #d4ebff;}#sk-container-id-1 input.sk-hidden--visually {border: 0;clip: rect(1px 1px 1px 1px);clip: rect(1px, 1px, 1px, 1px);height: 1px;margin: -1px;overflow: hidden;padding: 0;position: absolute;width: 1px;}#sk-container-id-1 div.sk-estimator {font-family: monospace;background-color: #f0f8ff;border: 1px dotted black;border-radius: 0.25em;box-sizing: border-box;margin-bottom: 0.5em;}#sk-container-id-1 div.sk-estimator:hover {background-color: #d4ebff;}#sk-container-id-1 div.sk-parallel-item::after {content: \"\";width: 100%;border-bottom: 1px solid gray;flex-grow: 1;}#sk-container-id-1 div.sk-label:hover label.sk-toggleable__label {background-color: #d4ebff;}#sk-container-id-1 div.sk-serial::before {content: \"\";position: absolute;border-left: 1px solid gray;box-sizing: border-box;top: 0;bottom: 0;left: 50%;z-index: 0;}#sk-container-id-1 div.sk-serial {display: flex;flex-direction: column;align-items: center;background-color: white;padding-right: 0.2em;padding-left: 0.2em;position: relative;}#sk-container-id-1 div.sk-item {position: relative;z-index: 1;}#sk-container-id-1 div.sk-parallel {display: flex;align-items: stretch;justify-content: center;background-color: white;position: relative;}#sk-container-id-1 div.sk-item::before, #sk-container-id-1 div.sk-parallel-item::before {content: \"\";position: absolute;border-left: 1px solid gray;box-sizing: border-box;top: 0;bottom: 0;left: 50%;z-index: -1;}#sk-container-id-1 div.sk-parallel-item {display: flex;flex-direction: column;z-index: 1;position: relative;background-color: white;}#sk-container-id-1 div.sk-parallel-item:first-child::after {align-self: flex-end;width: 50%;}#sk-container-id-1 div.sk-parallel-item:last-child::after {align-self: flex-start;width: 50%;}#sk-container-id-1 div.sk-parallel-item:only-child::after {width: 0;}#sk-container-id-1 div.sk-dashed-wrapped {border: 1px dashed gray;margin: 0 0.4em 0.5em 0.4em;box-sizing: border-box;padding-bottom: 0.4em;background-color: white;}#sk-container-id-1 div.sk-label label {font-family: monospace;font-weight: bold;display: inline-block;line-height: 1.2em;}#sk-container-id-1 div.sk-label-container {text-align: center;}#sk-container-id-1 div.sk-container {/* jupyter's `normalize.less` sets `[hidden] { display: none; }` but bootstrap.min.css set `[hidden] { display: none !important; }` so we also need the `!important` here to be able to override the default hidden behavior on the sphinx rendered scikit-learn.org. See: https://github.com/scikit-learn/scikit-learn/issues/21755 */display: inline-block !important;position: relative;}#sk-container-id-1 div.sk-text-repr-fallback {display: none;}</style><div id=\"sk-container-id-1\" class=\"sk-top-container\"><div class=\"sk-text-repr-fallback\"><pre>RandomForestClassifier(max_depth=5, max_features=&#x27;auto&#x27;, min_samples_leaf=5,\n",
       "                       min_samples_split=5, n_estimators=10)</pre><b>In a Jupyter environment, please rerun this cell to show the HTML representation or trust the notebook. <br />On GitHub, the HTML representation is unable to render, please try loading this page with nbviewer.org.</b></div><div class=\"sk-container\" hidden><div class=\"sk-item\"><div class=\"sk-estimator sk-toggleable\"><input class=\"sk-toggleable__control sk-hidden--visually\" id=\"sk-estimator-id-1\" type=\"checkbox\" checked><label for=\"sk-estimator-id-1\" class=\"sk-toggleable__label sk-toggleable__label-arrow\">RandomForestClassifier</label><div class=\"sk-toggleable__content\"><pre>RandomForestClassifier(max_depth=5, max_features=&#x27;auto&#x27;, min_samples_leaf=5,\n",
       "                       min_samples_split=5, n_estimators=10)</pre></div></div></div></div></div>"
      ],
      "text/plain": [
       "RandomForestClassifier(max_depth=5, max_features='auto', min_samples_leaf=5,\n",
       "                       min_samples_split=5, n_estimators=10)"
      ]
     },
     "execution_count": 22,
     "metadata": {},
     "output_type": "execute_result"
    }
   ],
   "source": [
    "rscv_rf_clf =RandomizedSearchCV(rfc, hyp, n_jobs=4)\n",
    "rscv_rf_clf.fit(x_train,y_train)\n",
    "rscv_rf_clf.best_estimator_"
   ]
  },
  {
   "cell_type": "code",
   "execution_count": 23,
   "id": "7cdc732b",
   "metadata": {},
   "outputs": [
    {
     "name": "stdout",
     "output_type": "stream",
     "text": [
      "Confusion Matrix [[15057    79]\n",
      " [ 5645  3097]]\n",
      "Accuracy score 0.6745237067850134\n",
      "Classification report               precision    recall  f1-score   support\n",
      "\n",
      "           0       0.73      0.99      0.84     15136\n",
      "           1       0.98      0.35      0.52      8742\n",
      "\n",
      "    accuracy                           0.76     23878\n",
      "   macro avg       0.85      0.67      0.68     23878\n",
      "weighted avg       0.82      0.76      0.72     23878\n",
      "\n"
     ]
    }
   ],
   "source": [
    "# Testing Data Evaluation\n",
    "y_pred = rscv_rf_clf.predict(x_test)\n",
    "\n",
    "cnf_matrix = confusion_matrix(y_test,y_pred)\n",
    "print(\"Confusion Matrix\", cnf_matrix)\n",
    "\n",
    "acc_score = balanced_accuracy_score(y_test,y_pred)\n",
    "print(\"Accuracy score\", acc_score)\n",
    "\n",
    "clf_report = classification_report(y_test,y_pred)\n",
    "print(\"Classification report\", clf_report)"
   ]
  },
  {
   "cell_type": "code",
   "execution_count": 24,
   "id": "b5473d09",
   "metadata": {},
   "outputs": [
    {
     "name": "stdout",
     "output_type": "stream",
     "text": [
      "Confusion Matrix [[59663   367]\n",
      " [22914 12568]]\n",
      "Accuracy score 0.75625052349443\n",
      "Classification report               precision    recall  f1-score   support\n",
      "\n",
      "           0       0.72      0.99      0.84     60030\n",
      "           1       0.97      0.35      0.52     35482\n",
      "\n",
      "    accuracy                           0.76     95512\n",
      "   macro avg       0.85      0.67      0.68     95512\n",
      "weighted avg       0.82      0.76      0.72     95512\n",
      "\n"
     ]
    }
   ],
   "source": [
    "# Training Data Evaluation\n",
    "y_pred = rscv_rf_clf.predict(x_train)\n",
    "\n",
    "cnf_matrix = confusion_matrix(y_train,y_pred)\n",
    "print(\"Confusion Matrix\", cnf_matrix)\n",
    "\n",
    "acc_score = accuracy_score(y_train,y_pred)\n",
    "print(\"Accuracy score\", acc_score)\n",
    "\n",
    "clf_report = classification_report(y_train,y_pred)\n",
    "print(\"Classification report\", clf_report)"
   ]
  },
  {
   "cell_type": "code",
   "execution_count": null,
   "id": "cfdda419",
   "metadata": {},
   "outputs": [],
   "source": []
  }
 ],
 "metadata": {
  "kernelspec": {
   "display_name": "Python 3",
   "language": "python",
   "name": "python3"
  },
  "language_info": {
   "codemirror_mode": {
    "name": "ipython",
    "version": 3
   },
   "file_extension": ".py",
   "mimetype": "text/x-python",
   "name": "python",
   "nbconvert_exporter": "python",
   "pygments_lexer": "ipython3",
   "version": "3.8.8"
  }
 },
 "nbformat": 4,
 "nbformat_minor": 5
}
